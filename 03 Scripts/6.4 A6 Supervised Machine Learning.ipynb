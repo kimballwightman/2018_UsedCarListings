{
 "cells": [
  {
   "cell_type": "markdown",
   "id": "2c650610",
   "metadata": {},
   "source": [
    "# Linear Regression Analysis"
   ]
  },
  {
   "cell_type": "markdown",
   "id": "655afd24",
   "metadata": {},
   "source": [
    "### Content:\n",
    "- Exploratory Data Analysis\n",
    "- Linear Regression\n",
    "- Model Performance Statistics"
   ]
  },
  {
   "cell_type": "code",
   "execution_count": 1,
   "id": "d592552f",
   "metadata": {},
   "outputs": [],
   "source": [
    "#import libraries\n",
    "import pandas as pd\n",
    "import numpy as np\n",
    "import seaborn as sns\n",
    "import matplotlib\n",
    "import matplotlib.pyplot as plt\n",
    "import os\n",
    "import sklearn\n",
    "from sklearn.model_selection import train_test_split\n",
    "from sklearn.linear_model import LinearRegression\n",
    "from sklearn.metrics import mean_squared_error, r2_score"
   ]
  },
  {
   "cell_type": "code",
   "execution_count": 2,
   "id": "2c489337",
   "metadata": {},
   "outputs": [],
   "source": [
    "#all visuals appear\n",
    "%matplotlib inline"
   ]
  },
  {
   "cell_type": "code",
   "execution_count": 3,
   "id": "01fa69cc",
   "metadata": {},
   "outputs": [],
   "source": [
    "#import car listings data\n",
    "path = '/Users/kimballwightman/Documents/CareerFoundry/Used Car Sales Analysis/'"
   ]
  },
  {
   "cell_type": "code",
   "execution_count": 4,
   "id": "0f3769a5",
   "metadata": {},
   "outputs": [],
   "source": [
    "df_cars = pd.read_csv(os.path.join(path,'02 Data','Prepared Data','cars_scores.csv'), index_col = [0])"
   ]
  },
  {
   "cell_type": "code",
   "execution_count": 5,
   "id": "6b88de05",
   "metadata": {},
   "outputs": [
    {
     "data": {
      "text/html": [
       "<div>\n",
       "<style scoped>\n",
       "    .dataframe tbody tr th:only-of-type {\n",
       "        vertical-align: middle;\n",
       "    }\n",
       "\n",
       "    .dataframe tbody tr th {\n",
       "        vertical-align: top;\n",
       "    }\n",
       "\n",
       "    .dataframe thead th {\n",
       "        text-align: right;\n",
       "    }\n",
       "</style>\n",
       "<table border=\"1\" class=\"dataframe\">\n",
       "  <thead>\n",
       "    <tr style=\"text-align: right;\">\n",
       "      <th></th>\n",
       "      <th>Price</th>\n",
       "      <th>Year</th>\n",
       "      <th>Mileage</th>\n",
       "      <th>City</th>\n",
       "      <th>State</th>\n",
       "      <th>Make</th>\n",
       "      <th>Model</th>\n",
       "      <th>Price_Flag</th>\n",
       "      <th>Mileage_Flag</th>\n",
       "      <th>mileage_score</th>\n",
       "      <th>year_score</th>\n",
       "      <th>price_score</th>\n",
       "    </tr>\n",
       "  </thead>\n",
       "  <tbody>\n",
       "    <tr>\n",
       "      <th>0</th>\n",
       "      <td>8995</td>\n",
       "      <td>2014</td>\n",
       "      <td>35725</td>\n",
       "      <td>El Paso</td>\n",
       "      <td>TX</td>\n",
       "      <td>Acura</td>\n",
       "      <td>ILX6-Speed</td>\n",
       "      <td>Low Price</td>\n",
       "      <td>Low Mileage</td>\n",
       "      <td>7.1450</td>\n",
       "      <td>22.727273</td>\n",
       "      <td>3.693389</td>\n",
       "    </tr>\n",
       "    <tr>\n",
       "      <th>1</th>\n",
       "      <td>10888</td>\n",
       "      <td>2013</td>\n",
       "      <td>19606</td>\n",
       "      <td>Long Island City</td>\n",
       "      <td>NY</td>\n",
       "      <td>Acura</td>\n",
       "      <td>ILX5-Speed</td>\n",
       "      <td>Low Price</td>\n",
       "      <td>Low Mileage</td>\n",
       "      <td>3.9212</td>\n",
       "      <td>27.272727</td>\n",
       "      <td>4.678813</td>\n",
       "    </tr>\n",
       "    <tr>\n",
       "      <th>2</th>\n",
       "      <td>8995</td>\n",
       "      <td>2013</td>\n",
       "      <td>48851</td>\n",
       "      <td>El Paso</td>\n",
       "      <td>TX</td>\n",
       "      <td>Acura</td>\n",
       "      <td>ILX6-Speed</td>\n",
       "      <td>Low Price</td>\n",
       "      <td>Low Mileage</td>\n",
       "      <td>9.7702</td>\n",
       "      <td>27.272727</td>\n",
       "      <td>3.693389</td>\n",
       "    </tr>\n",
       "    <tr>\n",
       "      <th>3</th>\n",
       "      <td>10999</td>\n",
       "      <td>2014</td>\n",
       "      <td>39922</td>\n",
       "      <td>Windsor</td>\n",
       "      <td>CO</td>\n",
       "      <td>Acura</td>\n",
       "      <td>ILX5-Speed</td>\n",
       "      <td>Low Price</td>\n",
       "      <td>Low Mileage</td>\n",
       "      <td>7.9844</td>\n",
       "      <td>22.727273</td>\n",
       "      <td>4.736596</td>\n",
       "    </tr>\n",
       "    <tr>\n",
       "      <th>4</th>\n",
       "      <td>14799</td>\n",
       "      <td>2016</td>\n",
       "      <td>22142</td>\n",
       "      <td>Lindon</td>\n",
       "      <td>UT</td>\n",
       "      <td>Acura</td>\n",
       "      <td>ILXAutomatic</td>\n",
       "      <td>Low Price</td>\n",
       "      <td>Low Mileage</td>\n",
       "      <td>4.4284</td>\n",
       "      <td>13.636364</td>\n",
       "      <td>6.714732</td>\n",
       "    </tr>\n",
       "  </tbody>\n",
       "</table>\n",
       "</div>"
      ],
      "text/plain": [
       "   Price  Year  Mileage              City State   Make         Model  \\\n",
       "0   8995  2014    35725           El Paso    TX  Acura    ILX6-Speed   \n",
       "1  10888  2013    19606  Long Island City    NY  Acura    ILX5-Speed   \n",
       "2   8995  2013    48851           El Paso    TX  Acura    ILX6-Speed   \n",
       "3  10999  2014    39922           Windsor    CO  Acura    ILX5-Speed   \n",
       "4  14799  2016    22142            Lindon    UT  Acura  ILXAutomatic   \n",
       "\n",
       "  Price_Flag Mileage_Flag  mileage_score  year_score  price_score  \n",
       "0  Low Price  Low Mileage         7.1450   22.727273     3.693389  \n",
       "1  Low Price  Low Mileage         3.9212   27.272727     4.678813  \n",
       "2  Low Price  Low Mileage         9.7702   27.272727     3.693389  \n",
       "3  Low Price  Low Mileage         7.9844   22.727273     4.736596  \n",
       "4  Low Price  Low Mileage         4.4284   13.636364     6.714732  "
      ]
     },
     "execution_count": 5,
     "metadata": {},
     "output_type": "execute_result"
    }
   ],
   "source": [
    "df_cars.head()"
   ]
  },
  {
   "cell_type": "markdown",
   "id": "130afe72",
   "metadata": {},
   "source": [
    "### EDA"
   ]
  },
  {
   "cell_type": "code",
   "execution_count": 6,
   "id": "9db7ccc4",
   "metadata": {},
   "outputs": [
    {
     "data": {
      "image/png": "[encoded data removed]",
      "text/plain": [
       "<Figure size 432x288 with 1 Axes>"
      ]
     },
     "metadata": {
      "needs_background": "light"
     },
     "output_type": "display_data"
    }
   ],
   "source": [
    "#explore data visually with a scatterplot\n",
    "df_cars.plot(x = 'mileage_score', y='price_score',style='o')\n",
    "plt.title('Car Mileage Score vs. Car Price Score')  \n",
    "plt.xlabel('Mileage Score')  \n",
    "plt.ylabel('Price Score')  \n",
    "plt.show()"
   ]
  },
  {
   "cell_type": "markdown",
   "id": "b5c6c20c",
   "metadata": {},
   "source": [
    "There are probably stronger linear relationships when grouped by car make, but we'll look at all cars for now. Overall, car price decreases as mileage gets higher."
   ]
  },
  {
   "cell_type": "markdown",
   "id": "80922245",
   "metadata": {},
   "source": [
    "### Linear Regression"
   ]
  },
  {
   "cell_type": "code",
   "execution_count": 7,
   "id": "0c7837c5",
   "metadata": {},
   "outputs": [],
   "source": [
    "#reshape variables into numpy arrays\n",
    "X = df_cars['mileage_score'].values.reshape(-1,1)\n",
    "y = df_cars['price_score'].values.reshape(-1,1)"
   ]
  },
  {
   "cell_type": "code",
   "execution_count": 8,
   "id": "23e9d373",
   "metadata": {},
   "outputs": [
    {
     "data": {
      "text/plain": [
       "array([[7.145 ],\n",
       "       [3.9212],\n",
       "       [9.7702],\n",
       "       ...,\n",
       "       [5.7882],\n",
       "       [0.601 ],\n",
       "       [0.5004]])"
      ]
     },
     "execution_count": 8,
     "metadata": {},
     "output_type": "execute_result"
    }
   ],
   "source": [
    "X"
   ]
  },
  {
   "cell_type": "code",
   "execution_count": 9,
   "id": "05144be9",
   "metadata": {},
   "outputs": [
    {
     "data": {
      "text/plain": [
       "array([[ 3.69338886],\n",
       "       [ 4.67881312],\n",
       "       [ 3.69338886],\n",
       "       ...,\n",
       "       [68.64286164],\n",
       "       [73.98450784],\n",
       "       [95.08785188]])"
      ]
     },
     "execution_count": 9,
     "metadata": {},
     "output_type": "execute_result"
    }
   ],
   "source": [
    "y"
   ]
  },
  {
   "cell_type": "code",
   "execution_count": 10,
   "id": "bcb2b9b1",
   "metadata": {},
   "outputs": [],
   "source": [
    "#split data into training set and testing set\n",
    "X_train, X_test, y_train, y_test = train_test_split(X, y, test_size = 0.3, random_state = 0)"
   ]
  },
  {
   "cell_type": "code",
   "execution_count": 11,
   "id": "b25f783b",
   "metadata": {},
   "outputs": [],
   "source": [
    "#run a linear regression\n",
    "regression = LinearRegression()"
   ]
  },
  {
   "cell_type": "code",
   "execution_count": 12,
   "id": "a87f874c",
   "metadata": {},
   "outputs": [
    {
     "data": {
      "text/plain": [
       "LinearRegression()"
      ]
     },
     "execution_count": 12,
     "metadata": {},
     "output_type": "execute_result"
    }
   ],
   "source": [
    "regression.fit(X_train, y_train)"
   ]
  },
  {
   "cell_type": "code",
   "execution_count": 13,
   "id": "7b13ce71",
   "metadata": {},
   "outputs": [],
   "source": [
    "y_predicted = regression.predict(X_test)"
   ]
  },
  {
   "cell_type": "code",
   "execution_count": 14,
   "id": "ef78adc0",
   "metadata": {},
   "outputs": [
    {
     "data": {
      "image/png": "[encoded data removed]",
      "text/plain": [
       "<Figure size 432x288 with 1 Axes>"
      ]
     },
     "metadata": {
      "needs_background": "light"
     },
     "output_type": "display_data"
    }
   ],
   "source": [
    "#plot a regression line on the test set\n",
    "plot_test = plt\n",
    "plot_test.scatter(X_test, y_test, color='gray', s = 15)\n",
    "plot_test.plot(X_test, y_predicted, color='red', linewidth =3)\n",
    "plot_test.title('Mileage Score vs Price Score (Test set)')\n",
    "plot_test.xlabel('Mileage Score')\n",
    "plot_test.ylabel('Price Score')\n",
    "plot_test.show()"
   ]
  },
  {
   "cell_type": "markdown",
   "id": "78b90db8",
   "metadata": {},
   "source": [
    "This is a poorly-fit regression line. Compared to the highest mileage cars, any observations with about half that mileage or more are predicted to have a price lower than the cheapest car listed for its make. Basically it's predicting negative prices for more extreme values in mileage, which exist. You can't have a negative price. Linear Regression probably isn't appropriate for this kind of distribution."
   ]
  },
  {
   "cell_type": "markdown",
   "id": "e2de65f5",
   "metadata": {},
   "source": [
    "### Model Performance Statistics"
   ]
  },
  {
   "cell_type": "code",
   "execution_count": 15,
   "id": "706367c8",
   "metadata": {},
   "outputs": [],
   "source": [
    "#check the model performance statistics\n",
    "rmse = mean_squared_error(y_test, y_predicted)\n",
    "r2 = r2_score(y_test, y_predicted)"
   ]
  },
  {
   "cell_type": "code",
   "execution_count": 16,
   "id": "f1bee3b0",
   "metadata": {},
   "outputs": [
    {
     "name": "stdout",
     "output_type": "stream",
     "text": [
      "Slope: [[-0.45960637]]\n",
      "Mean squared error:  103.40718456016182\n",
      "R2 score:  0.1230151283019626\n"
     ]
    }
   ],
   "source": [
    "print('Slope:' ,regression.coef_)\n",
    "print('Mean squared error: ', rmse)\n",
    "print('R2 score: ', r2)"
   ]
  },
  {
   "cell_type": "code",
   "execution_count": 17,
   "id": "429d4eb0",
   "metadata": {},
   "outputs": [
    {
     "data": {
      "text/html": [
       "<div>\n",
       "<style scoped>\n",
       "    .dataframe tbody tr th:only-of-type {\n",
       "        vertical-align: middle;\n",
       "    }\n",
       "\n",
       "    .dataframe tbody tr th {\n",
       "        vertical-align: top;\n",
       "    }\n",
       "\n",
       "    .dataframe thead th {\n",
       "        text-align: right;\n",
       "    }\n",
       "</style>\n",
       "<table border=\"1\" class=\"dataframe\">\n",
       "  <thead>\n",
       "    <tr style=\"text-align: right;\">\n",
       "      <th></th>\n",
       "      <th>Actual</th>\n",
       "      <th>Predicted</th>\n",
       "    </tr>\n",
       "  </thead>\n",
       "  <tbody>\n",
       "    <tr>\n",
       "      <th>0</th>\n",
       "      <td>7.902404</td>\n",
       "      <td>13.005261</td>\n",
       "    </tr>\n",
       "    <tr>\n",
       "      <th>1</th>\n",
       "      <td>12.347069</td>\n",
       "      <td>16.429604</td>\n",
       "    </tr>\n",
       "    <tr>\n",
       "      <th>2</th>\n",
       "      <td>34.232404</td>\n",
       "      <td>12.419355</td>\n",
       "    </tr>\n",
       "    <tr>\n",
       "      <th>3</th>\n",
       "      <td>2.039063</td>\n",
       "      <td>7.855280</td>\n",
       "    </tr>\n",
       "    <tr>\n",
       "      <th>4</th>\n",
       "      <td>5.378410</td>\n",
       "      <td>10.046959</td>\n",
       "    </tr>\n",
       "    <tr>\n",
       "      <th>5</th>\n",
       "      <td>5.213764</td>\n",
       "      <td>6.686133</td>\n",
       "    </tr>\n",
       "    <tr>\n",
       "      <th>6</th>\n",
       "      <td>4.265842</td>\n",
       "      <td>-2.409385</td>\n",
       "    </tr>\n",
       "    <tr>\n",
       "      <th>7</th>\n",
       "      <td>16.173097</td>\n",
       "      <td>12.208396</td>\n",
       "    </tr>\n",
       "    <tr>\n",
       "      <th>8</th>\n",
       "      <td>5.230559</td>\n",
       "      <td>6.834310</td>\n",
       "    </tr>\n",
       "    <tr>\n",
       "      <th>9</th>\n",
       "      <td>2.792404</td>\n",
       "      <td>7.594775</td>\n",
       "    </tr>\n",
       "    <tr>\n",
       "      <th>10</th>\n",
       "      <td>53.520322</td>\n",
       "      <td>16.050061</td>\n",
       "    </tr>\n",
       "    <tr>\n",
       "      <th>11</th>\n",
       "      <td>8.294477</td>\n",
       "      <td>11.528913</td>\n",
       "    </tr>\n",
       "    <tr>\n",
       "      <th>12</th>\n",
       "      <td>17.560584</td>\n",
       "      <td>16.773482</td>\n",
       "    </tr>\n",
       "    <tr>\n",
       "      <th>13</th>\n",
       "      <td>14.983378</td>\n",
       "      <td>15.418654</td>\n",
       "    </tr>\n",
       "    <tr>\n",
       "      <th>14</th>\n",
       "      <td>8.712738</td>\n",
       "      <td>9.114509</td>\n",
       "    </tr>\n",
       "    <tr>\n",
       "      <th>15</th>\n",
       "      <td>7.528112</td>\n",
       "      <td>16.010076</td>\n",
       "    </tr>\n",
       "    <tr>\n",
       "      <th>16</th>\n",
       "      <td>3.786839</td>\n",
       "      <td>6.091586</td>\n",
       "    </tr>\n",
       "    <tr>\n",
       "      <th>17</th>\n",
       "      <td>6.658611</td>\n",
       "      <td>7.256321</td>\n",
       "    </tr>\n",
       "    <tr>\n",
       "      <th>18</th>\n",
       "      <td>4.139283</td>\n",
       "      <td>13.860772</td>\n",
       "    </tr>\n",
       "    <tr>\n",
       "      <th>19</th>\n",
       "      <td>10.620197</td>\n",
       "      <td>14.761417</td>\n",
       "    </tr>\n",
       "    <tr>\n",
       "      <th>20</th>\n",
       "      <td>9.792075</td>\n",
       "      <td>13.917212</td>\n",
       "    </tr>\n",
       "    <tr>\n",
       "      <th>21</th>\n",
       "      <td>2.724944</td>\n",
       "      <td>3.949453</td>\n",
       "    </tr>\n",
       "    <tr>\n",
       "      <th>22</th>\n",
       "      <td>6.677423</td>\n",
       "      <td>15.280496</td>\n",
       "    </tr>\n",
       "    <tr>\n",
       "      <th>23</th>\n",
       "      <td>4.296185</td>\n",
       "      <td>15.222494</td>\n",
       "    </tr>\n",
       "    <tr>\n",
       "      <th>24</th>\n",
       "      <td>3.092369</td>\n",
       "      <td>9.386504</td>\n",
       "    </tr>\n",
       "    <tr>\n",
       "      <th>25</th>\n",
       "      <td>6.446014</td>\n",
       "      <td>16.350736</td>\n",
       "    </tr>\n",
       "    <tr>\n",
       "      <th>26</th>\n",
       "      <td>7.766091</td>\n",
       "      <td>10.306452</td>\n",
       "    </tr>\n",
       "    <tr>\n",
       "      <th>27</th>\n",
       "      <td>4.506661</td>\n",
       "      <td>13.018957</td>\n",
       "    </tr>\n",
       "    <tr>\n",
       "      <th>28</th>\n",
       "      <td>11.662047</td>\n",
       "      <td>14.285081</td>\n",
       "    </tr>\n",
       "    <tr>\n",
       "      <th>29</th>\n",
       "      <td>11.781711</td>\n",
       "      <td>13.815455</td>\n",
       "    </tr>\n",
       "  </tbody>\n",
       "</table>\n",
       "</div>"
      ],
      "text/plain": [
       "       Actual  Predicted\n",
       "0    7.902404  13.005261\n",
       "1   12.347069  16.429604\n",
       "2   34.232404  12.419355\n",
       "3    2.039063   7.855280\n",
       "4    5.378410  10.046959\n",
       "5    5.213764   6.686133\n",
       "6    4.265842  -2.409385\n",
       "7   16.173097  12.208396\n",
       "8    5.230559   6.834310\n",
       "9    2.792404   7.594775\n",
       "10  53.520322  16.050061\n",
       "11   8.294477  11.528913\n",
       "12  17.560584  16.773482\n",
       "13  14.983378  15.418654\n",
       "14   8.712738   9.114509\n",
       "15   7.528112  16.010076\n",
       "16   3.786839   6.091586\n",
       "17   6.658611   7.256321\n",
       "18   4.139283  13.860772\n",
       "19  10.620197  14.761417\n",
       "20   9.792075  13.917212\n",
       "21   2.724944   3.949453\n",
       "22   6.677423  15.280496\n",
       "23   4.296185  15.222494\n",
       "24   3.092369   9.386504\n",
       "25   6.446014  16.350736\n",
       "26   7.766091  10.306452\n",
       "27   4.506661  13.018957\n",
       "28  11.662047  14.285081\n",
       "29  11.781711  13.815455"
      ]
     },
     "execution_count": 17,
     "metadata": {},
     "output_type": "execute_result"
    }
   ],
   "source": [
    "#compare the predicted and actual values in a df\n",
    "data = pd.DataFrame({'Actual': y_test.flatten(), 'Predicted': y_predicted.flatten()})\n",
    "data.head(30)"
   ]
  }
 ],
 "metadata": {
  "kernelspec": {
   "display_name": "Python 3 (ipykernel)",
   "language": "python",
   "name": "python3"
  },
  "language_info": {
   "codemirror_mode": {
    "name": "ipython",
    "version": 3
   },
   "file_extension": ".py",
   "mimetype": "text/x-python",
   "name": "python",
   "nbconvert_exporter": "python",
   "pygments_lexer": "ipython3",
   "version": "3.9.7"
  }
 },
 "nbformat": 4,
 "nbformat_minor": 5
}
